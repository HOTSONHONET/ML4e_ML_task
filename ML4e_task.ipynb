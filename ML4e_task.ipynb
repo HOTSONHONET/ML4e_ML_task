{
  "nbformat": 4,
  "nbformat_minor": 0,
  "metadata": {
    "colab": {
      "name": "ML4e_task",
      "provenance": [],
      "collapsed_sections": []
    },
    "kernelspec": {
      "name": "python3",
      "display_name": "Python 3"
    },
    "accelerator": "GPU"
  },
  "cells": [
    {
      "cell_type": "markdown",
      "metadata": {
        "id": "G-4Cy2hRvP_H",
        "colab_type": "text"
      },
      "source": [
        "##Importing Modules\n"
      ]
    },
    {
      "cell_type": "code",
      "metadata": {
        "id": "vyhvBa7jss-H",
        "colab_type": "code",
        "colab": {}
      },
      "source": [
        "import pandas as pd\n",
        "import numpy as np\n",
        "import matplotlib.pyplot as plt\n",
        "\n",
        "from sklearn.model_selection import train_test_split\n",
        "from sklearn.metrics import classification_report, confusion_matrix, accuracy_score\n",
        "from sklearn.preprocessing import LabelEncoder\n",
        "from sklearn.model_selection import cross_val_score\n",
        "from sklearn.preprocessing import StandardScaler\n",
        "from sklearn.impute import SimpleImputer\n",
        "from sklearn.tree import DecisionTreeClassifier\n",
        "from sklearn.ensemble import RandomForestClassifier, AdaBoostClassifier\n",
        "\n",
        "from xgboost import XGBClassifier\n",
        "\n",
        "import seaborn as sns\n",
        "\n",
        "% matplotlib inline\n"
      ],
      "execution_count": 32,
      "outputs": []
    },
    {
      "cell_type": "markdown",
      "metadata": {
        "id": "XTVhwSaVmZFD",
        "colab_type": "text"
      },
      "source": [
        "##Loading Training data"
      ]
    },
    {
      "cell_type": "code",
      "metadata": {
        "id": "8YqY5H2fl8u2",
        "colab_type": "code",
        "colab": {
          "base_uri": "https://localhost:8080/",
          "height": 263
        },
        "outputId": "e888c43e-a6a1-4b8c-9768-a80c87878f85"
      },
      "source": [
        "data = pd.read_csv(\"train.csv\")\n",
        "print(f\"Data size : {data.shape}\\n\")\n",
        "data.head(6)"
      ],
      "execution_count": 43,
      "outputs": [
        {
          "output_type": "stream",
          "text": [
            "Data size : (88858, 10)\n",
            "\n"
          ],
          "name": "stdout"
        },
        {
          "output_type": "execute_result",
          "data": {
            "text/html": [
              "<div>\n",
              "<style scoped>\n",
              "    .dataframe tbody tr th:only-of-type {\n",
              "        vertical-align: middle;\n",
              "    }\n",
              "\n",
              "    .dataframe tbody tr th {\n",
              "        vertical-align: top;\n",
              "    }\n",
              "\n",
              "    .dataframe thead th {\n",
              "        text-align: right;\n",
              "    }\n",
              "</style>\n",
              "<table border=\"1\" class=\"dataframe\">\n",
              "  <thead>\n",
              "    <tr style=\"text-align: right;\">\n",
              "      <th></th>\n",
              "      <th>ID</th>\n",
              "      <th>Estimated_Insects_Count</th>\n",
              "      <th>Crop_Type</th>\n",
              "      <th>Soil_Type</th>\n",
              "      <th>Pesticide_Use_Category</th>\n",
              "      <th>Number_Doses_Week</th>\n",
              "      <th>Number_Weeks_Used</th>\n",
              "      <th>Number_Weeks_Quit</th>\n",
              "      <th>Season</th>\n",
              "      <th>Crop_Damage</th>\n",
              "    </tr>\n",
              "  </thead>\n",
              "  <tbody>\n",
              "    <tr>\n",
              "      <th>0</th>\n",
              "      <td>F00000001</td>\n",
              "      <td>188</td>\n",
              "      <td>1</td>\n",
              "      <td>0</td>\n",
              "      <td>1</td>\n",
              "      <td>0</td>\n",
              "      <td>0.0</td>\n",
              "      <td>0</td>\n",
              "      <td>1</td>\n",
              "      <td>0</td>\n",
              "    </tr>\n",
              "    <tr>\n",
              "      <th>1</th>\n",
              "      <td>F00000003</td>\n",
              "      <td>209</td>\n",
              "      <td>1</td>\n",
              "      <td>0</td>\n",
              "      <td>1</td>\n",
              "      <td>0</td>\n",
              "      <td>0.0</td>\n",
              "      <td>0</td>\n",
              "      <td>2</td>\n",
              "      <td>1</td>\n",
              "    </tr>\n",
              "    <tr>\n",
              "      <th>2</th>\n",
              "      <td>F00000004</td>\n",
              "      <td>257</td>\n",
              "      <td>1</td>\n",
              "      <td>0</td>\n",
              "      <td>1</td>\n",
              "      <td>0</td>\n",
              "      <td>0.0</td>\n",
              "      <td>0</td>\n",
              "      <td>2</td>\n",
              "      <td>1</td>\n",
              "    </tr>\n",
              "    <tr>\n",
              "      <th>3</th>\n",
              "      <td>F00000005</td>\n",
              "      <td>257</td>\n",
              "      <td>1</td>\n",
              "      <td>1</td>\n",
              "      <td>1</td>\n",
              "      <td>0</td>\n",
              "      <td>0.0</td>\n",
              "      <td>0</td>\n",
              "      <td>2</td>\n",
              "      <td>1</td>\n",
              "    </tr>\n",
              "    <tr>\n",
              "      <th>4</th>\n",
              "      <td>F00000006</td>\n",
              "      <td>342</td>\n",
              "      <td>1</td>\n",
              "      <td>0</td>\n",
              "      <td>1</td>\n",
              "      <td>0</td>\n",
              "      <td>0.0</td>\n",
              "      <td>0</td>\n",
              "      <td>2</td>\n",
              "      <td>1</td>\n",
              "    </tr>\n",
              "    <tr>\n",
              "      <th>5</th>\n",
              "      <td>F00000008</td>\n",
              "      <td>448</td>\n",
              "      <td>0</td>\n",
              "      <td>1</td>\n",
              "      <td>1</td>\n",
              "      <td>0</td>\n",
              "      <td>NaN</td>\n",
              "      <td>0</td>\n",
              "      <td>2</td>\n",
              "      <td>1</td>\n",
              "    </tr>\n",
              "  </tbody>\n",
              "</table>\n",
              "</div>"
            ],
            "text/plain": [
              "          ID  Estimated_Insects_Count  ...  Season  Crop_Damage\n",
              "0  F00000001                      188  ...       1            0\n",
              "1  F00000003                      209  ...       2            1\n",
              "2  F00000004                      257  ...       2            1\n",
              "3  F00000005                      257  ...       2            1\n",
              "4  F00000006                      342  ...       2            1\n",
              "5  F00000008                      448  ...       2            1\n",
              "\n",
              "[6 rows x 10 columns]"
            ]
          },
          "metadata": {
            "tags": []
          },
          "execution_count": 43
        }
      ]
    },
    {
      "cell_type": "markdown",
      "metadata": {
        "id": "CTDToZuZIByT",
        "colab_type": "text"
      },
      "source": [
        "##Getting ID"
      ]
    },
    {
      "cell_type": "code",
      "metadata": {
        "id": "5KrVJjMeIFTb",
        "colab_type": "code",
        "colab": {
          "base_uri": "https://localhost:8080/",
          "height": 157
        },
        "outputId": "963b3639-4fd2-46b5-e93a-af0d432a0449"
      },
      "source": [
        "data['ID_value'] = data['ID'].apply(lambda x: x.strip('F')).astype('int')\n",
        "data.sample(3)"
      ],
      "execution_count": 44,
      "outputs": [
        {
          "output_type": "execute_result",
          "data": {
            "text/html": [
              "<div>\n",
              "<style scoped>\n",
              "    .dataframe tbody tr th:only-of-type {\n",
              "        vertical-align: middle;\n",
              "    }\n",
              "\n",
              "    .dataframe tbody tr th {\n",
              "        vertical-align: top;\n",
              "    }\n",
              "\n",
              "    .dataframe thead th {\n",
              "        text-align: right;\n",
              "    }\n",
              "</style>\n",
              "<table border=\"1\" class=\"dataframe\">\n",
              "  <thead>\n",
              "    <tr style=\"text-align: right;\">\n",
              "      <th></th>\n",
              "      <th>ID</th>\n",
              "      <th>Estimated_Insects_Count</th>\n",
              "      <th>Crop_Type</th>\n",
              "      <th>Soil_Type</th>\n",
              "      <th>Pesticide_Use_Category</th>\n",
              "      <th>Number_Doses_Week</th>\n",
              "      <th>Number_Weeks_Used</th>\n",
              "      <th>Number_Weeks_Quit</th>\n",
              "      <th>Season</th>\n",
              "      <th>Crop_Damage</th>\n",
              "      <th>ID_value</th>\n",
              "    </tr>\n",
              "  </thead>\n",
              "  <tbody>\n",
              "    <tr>\n",
              "      <th>55318</th>\n",
              "      <td>F00097059</td>\n",
              "      <td>1678</td>\n",
              "      <td>0</td>\n",
              "      <td>1</td>\n",
              "      <td>2</td>\n",
              "      <td>25</td>\n",
              "      <td>25.0</td>\n",
              "      <td>9</td>\n",
              "      <td>2</td>\n",
              "      <td>0</td>\n",
              "      <td>97059</td>\n",
              "    </tr>\n",
              "    <tr>\n",
              "      <th>84807</th>\n",
              "      <td>F00148842</td>\n",
              "      <td>1478</td>\n",
              "      <td>0</td>\n",
              "      <td>0</td>\n",
              "      <td>2</td>\n",
              "      <td>15</td>\n",
              "      <td>26.0</td>\n",
              "      <td>13</td>\n",
              "      <td>1</td>\n",
              "      <td>0</td>\n",
              "      <td>148842</td>\n",
              "    </tr>\n",
              "    <tr>\n",
              "      <th>14533</th>\n",
              "      <td>F00025525</td>\n",
              "      <td>1297</td>\n",
              "      <td>0</td>\n",
              "      <td>1</td>\n",
              "      <td>2</td>\n",
              "      <td>50</td>\n",
              "      <td>21.0</td>\n",
              "      <td>20</td>\n",
              "      <td>3</td>\n",
              "      <td>1</td>\n",
              "      <td>25525</td>\n",
              "    </tr>\n",
              "  </tbody>\n",
              "</table>\n",
              "</div>"
            ],
            "text/plain": [
              "              ID  Estimated_Insects_Count  ...  Crop_Damage  ID_value\n",
              "55318  F00097059                     1678  ...            0     97059\n",
              "84807  F00148842                     1478  ...            0    148842\n",
              "14533  F00025525                     1297  ...            1     25525\n",
              "\n",
              "[3 rows x 11 columns]"
            ]
          },
          "metadata": {
            "tags": []
          },
          "execution_count": 44
        }
      ]
    },
    {
      "cell_type": "markdown",
      "metadata": {
        "id": "xlib6wj5mum8",
        "colab_type": "text"
      },
      "source": [
        "## Getting an insight into the data"
      ]
    },
    {
      "cell_type": "code",
      "metadata": {
        "id": "G-VVL_rBmjqP",
        "colab_type": "code",
        "colab": {
          "base_uri": "https://localhost:8080/",
          "height": 336
        },
        "outputId": "31140c7d-d013-40de-b47d-07d80d48c37b"
      },
      "source": [
        "data.info()"
      ],
      "execution_count": 45,
      "outputs": [
        {
          "output_type": "stream",
          "text": [
            "<class 'pandas.core.frame.DataFrame'>\n",
            "RangeIndex: 88858 entries, 0 to 88857\n",
            "Data columns (total 11 columns):\n",
            " #   Column                   Non-Null Count  Dtype  \n",
            "---  ------                   --------------  -----  \n",
            " 0   ID                       88858 non-null  object \n",
            " 1   Estimated_Insects_Count  88858 non-null  int64  \n",
            " 2   Crop_Type                88858 non-null  int64  \n",
            " 3   Soil_Type                88858 non-null  int64  \n",
            " 4   Pesticide_Use_Category   88858 non-null  int64  \n",
            " 5   Number_Doses_Week        88858 non-null  int64  \n",
            " 6   Number_Weeks_Used        79858 non-null  float64\n",
            " 7   Number_Weeks_Quit        88858 non-null  int64  \n",
            " 8   Season                   88858 non-null  int64  \n",
            " 9   Crop_Damage              88858 non-null  int64  \n",
            " 10  ID_value                 88858 non-null  int64  \n",
            "dtypes: float64(1), int64(9), object(1)\n",
            "memory usage: 7.5+ MB\n"
          ],
          "name": "stdout"
        }
      ]
    },
    {
      "cell_type": "markdown",
      "metadata": {
        "id": "LXr-03dwOe07",
        "colab_type": "text"
      },
      "source": [
        "##Nan Pattern"
      ]
    },
    {
      "cell_type": "code",
      "metadata": {
        "id": "DZWHPNsHOgzx",
        "colab_type": "code",
        "colab": {
          "base_uri": "https://localhost:8080/",
          "height": 215
        },
        "outputId": "0e0d5736-e790-4e5c-c805-71dfbbb637f9"
      },
      "source": [
        "nan_rows = data.loc[data['Number_Weeks_Used'].isna()]\n",
        "print(f\"Shape of nan_rows : {nan_rows.shape}\")\n",
        "nan_rows.head()"
      ],
      "execution_count": 46,
      "outputs": [
        {
          "output_type": "stream",
          "text": [
            "Shape of nan_rows : (9000, 11)\n"
          ],
          "name": "stdout"
        },
        {
          "output_type": "execute_result",
          "data": {
            "text/html": [
              "<div>\n",
              "<style scoped>\n",
              "    .dataframe tbody tr th:only-of-type {\n",
              "        vertical-align: middle;\n",
              "    }\n",
              "\n",
              "    .dataframe tbody tr th {\n",
              "        vertical-align: top;\n",
              "    }\n",
              "\n",
              "    .dataframe thead th {\n",
              "        text-align: right;\n",
              "    }\n",
              "</style>\n",
              "<table border=\"1\" class=\"dataframe\">\n",
              "  <thead>\n",
              "    <tr style=\"text-align: right;\">\n",
              "      <th></th>\n",
              "      <th>ID</th>\n",
              "      <th>Estimated_Insects_Count</th>\n",
              "      <th>Crop_Type</th>\n",
              "      <th>Soil_Type</th>\n",
              "      <th>Pesticide_Use_Category</th>\n",
              "      <th>Number_Doses_Week</th>\n",
              "      <th>Number_Weeks_Used</th>\n",
              "      <th>Number_Weeks_Quit</th>\n",
              "      <th>Season</th>\n",
              "      <th>Crop_Damage</th>\n",
              "      <th>ID_value</th>\n",
              "    </tr>\n",
              "  </thead>\n",
              "  <tbody>\n",
              "    <tr>\n",
              "      <th>5</th>\n",
              "      <td>F00000008</td>\n",
              "      <td>448</td>\n",
              "      <td>0</td>\n",
              "      <td>1</td>\n",
              "      <td>1</td>\n",
              "      <td>0</td>\n",
              "      <td>NaN</td>\n",
              "      <td>0</td>\n",
              "      <td>2</td>\n",
              "      <td>1</td>\n",
              "      <td>8</td>\n",
              "    </tr>\n",
              "    <tr>\n",
              "      <th>6</th>\n",
              "      <td>F00000009</td>\n",
              "      <td>448</td>\n",
              "      <td>0</td>\n",
              "      <td>1</td>\n",
              "      <td>1</td>\n",
              "      <td>0</td>\n",
              "      <td>NaN</td>\n",
              "      <td>0</td>\n",
              "      <td>2</td>\n",
              "      <td>1</td>\n",
              "      <td>9</td>\n",
              "    </tr>\n",
              "    <tr>\n",
              "      <th>10</th>\n",
              "      <td>F00000021</td>\n",
              "      <td>1212</td>\n",
              "      <td>1</td>\n",
              "      <td>0</td>\n",
              "      <td>1</td>\n",
              "      <td>0</td>\n",
              "      <td>NaN</td>\n",
              "      <td>0</td>\n",
              "      <td>3</td>\n",
              "      <td>0</td>\n",
              "      <td>21</td>\n",
              "    </tr>\n",
              "    <tr>\n",
              "      <th>17</th>\n",
              "      <td>F00000037</td>\n",
              "      <td>2401</td>\n",
              "      <td>0</td>\n",
              "      <td>1</td>\n",
              "      <td>1</td>\n",
              "      <td>0</td>\n",
              "      <td>NaN</td>\n",
              "      <td>0</td>\n",
              "      <td>1</td>\n",
              "      <td>1</td>\n",
              "      <td>37</td>\n",
              "    </tr>\n",
              "    <tr>\n",
              "      <th>35</th>\n",
              "      <td>F00000076</td>\n",
              "      <td>257</td>\n",
              "      <td>0</td>\n",
              "      <td>0</td>\n",
              "      <td>3</td>\n",
              "      <td>30</td>\n",
              "      <td>NaN</td>\n",
              "      <td>0</td>\n",
              "      <td>2</td>\n",
              "      <td>0</td>\n",
              "      <td>76</td>\n",
              "    </tr>\n",
              "  </tbody>\n",
              "</table>\n",
              "</div>"
            ],
            "text/plain": [
              "           ID  Estimated_Insects_Count  ...  Crop_Damage  ID_value\n",
              "5   F00000008                      448  ...            1         8\n",
              "6   F00000009                      448  ...            1         9\n",
              "10  F00000021                     1212  ...            0        21\n",
              "17  F00000037                     2401  ...            1        37\n",
              "35  F00000076                      257  ...            0        76\n",
              "\n",
              "[5 rows x 11 columns]"
            ]
          },
          "metadata": {
            "tags": []
          },
          "execution_count": 46
        }
      ]
    },
    {
      "cell_type": "code",
      "metadata": {
        "id": "APmHqar-SykV",
        "colab_type": "code",
        "colab": {
          "base_uri": "https://localhost:8080/",
          "height": 34
        },
        "outputId": "8b285161-84d6-4f42-f503-54742cf92194"
      },
      "source": [
        "data_ = data.dropna(inplace=False)\n",
        "data_.shape"
      ],
      "execution_count": 47,
      "outputs": [
        {
          "output_type": "execute_result",
          "data": {
            "text/plain": [
              "(79858, 11)"
            ]
          },
          "metadata": {
            "tags": []
          },
          "execution_count": 47
        }
      ]
    },
    {
      "cell_type": "code",
      "metadata": {
        "id": "fACGIjXjQxAq",
        "colab_type": "code",
        "colab": {
          "base_uri": "https://localhost:8080/",
          "height": 431
        },
        "outputId": "a4d7e5a5-8392-4428-dcfe-5b35153bfc3f"
      },
      "source": [
        "nan_rows['nan_pattern'] = 0\n",
        "data_['nan_pattern'] = 1\n",
        "data = pd.concat((nan_rows, data_))\n",
        "data.head()"
      ],
      "execution_count": 48,
      "outputs": [
        {
          "output_type": "stream",
          "text": [
            "/usr/local/lib/python3.6/dist-packages/ipykernel_launcher.py:1: SettingWithCopyWarning: \n",
            "A value is trying to be set on a copy of a slice from a DataFrame.\n",
            "Try using .loc[row_indexer,col_indexer] = value instead\n",
            "\n",
            "See the caveats in the documentation: https://pandas.pydata.org/pandas-docs/stable/user_guide/indexing.html#returning-a-view-versus-a-copy\n",
            "  \"\"\"Entry point for launching an IPython kernel.\n",
            "/usr/local/lib/python3.6/dist-packages/ipykernel_launcher.py:2: SettingWithCopyWarning: \n",
            "A value is trying to be set on a copy of a slice from a DataFrame.\n",
            "Try using .loc[row_indexer,col_indexer] = value instead\n",
            "\n",
            "See the caveats in the documentation: https://pandas.pydata.org/pandas-docs/stable/user_guide/indexing.html#returning-a-view-versus-a-copy\n",
            "  \n"
          ],
          "name": "stderr"
        },
        {
          "output_type": "execute_result",
          "data": {
            "text/html": [
              "<div>\n",
              "<style scoped>\n",
              "    .dataframe tbody tr th:only-of-type {\n",
              "        vertical-align: middle;\n",
              "    }\n",
              "\n",
              "    .dataframe tbody tr th {\n",
              "        vertical-align: top;\n",
              "    }\n",
              "\n",
              "    .dataframe thead th {\n",
              "        text-align: right;\n",
              "    }\n",
              "</style>\n",
              "<table border=\"1\" class=\"dataframe\">\n",
              "  <thead>\n",
              "    <tr style=\"text-align: right;\">\n",
              "      <th></th>\n",
              "      <th>ID</th>\n",
              "      <th>Estimated_Insects_Count</th>\n",
              "      <th>Crop_Type</th>\n",
              "      <th>Soil_Type</th>\n",
              "      <th>Pesticide_Use_Category</th>\n",
              "      <th>Number_Doses_Week</th>\n",
              "      <th>Number_Weeks_Used</th>\n",
              "      <th>Number_Weeks_Quit</th>\n",
              "      <th>Season</th>\n",
              "      <th>Crop_Damage</th>\n",
              "      <th>ID_value</th>\n",
              "      <th>nan_pattern</th>\n",
              "    </tr>\n",
              "  </thead>\n",
              "  <tbody>\n",
              "    <tr>\n",
              "      <th>5</th>\n",
              "      <td>F00000008</td>\n",
              "      <td>448</td>\n",
              "      <td>0</td>\n",
              "      <td>1</td>\n",
              "      <td>1</td>\n",
              "      <td>0</td>\n",
              "      <td>NaN</td>\n",
              "      <td>0</td>\n",
              "      <td>2</td>\n",
              "      <td>1</td>\n",
              "      <td>8</td>\n",
              "      <td>0</td>\n",
              "    </tr>\n",
              "    <tr>\n",
              "      <th>6</th>\n",
              "      <td>F00000009</td>\n",
              "      <td>448</td>\n",
              "      <td>0</td>\n",
              "      <td>1</td>\n",
              "      <td>1</td>\n",
              "      <td>0</td>\n",
              "      <td>NaN</td>\n",
              "      <td>0</td>\n",
              "      <td>2</td>\n",
              "      <td>1</td>\n",
              "      <td>9</td>\n",
              "      <td>0</td>\n",
              "    </tr>\n",
              "    <tr>\n",
              "      <th>10</th>\n",
              "      <td>F00000021</td>\n",
              "      <td>1212</td>\n",
              "      <td>1</td>\n",
              "      <td>0</td>\n",
              "      <td>1</td>\n",
              "      <td>0</td>\n",
              "      <td>NaN</td>\n",
              "      <td>0</td>\n",
              "      <td>3</td>\n",
              "      <td>0</td>\n",
              "      <td>21</td>\n",
              "      <td>0</td>\n",
              "    </tr>\n",
              "    <tr>\n",
              "      <th>17</th>\n",
              "      <td>F00000037</td>\n",
              "      <td>2401</td>\n",
              "      <td>0</td>\n",
              "      <td>1</td>\n",
              "      <td>1</td>\n",
              "      <td>0</td>\n",
              "      <td>NaN</td>\n",
              "      <td>0</td>\n",
              "      <td>1</td>\n",
              "      <td>1</td>\n",
              "      <td>37</td>\n",
              "      <td>0</td>\n",
              "    </tr>\n",
              "    <tr>\n",
              "      <th>35</th>\n",
              "      <td>F00000076</td>\n",
              "      <td>257</td>\n",
              "      <td>0</td>\n",
              "      <td>0</td>\n",
              "      <td>3</td>\n",
              "      <td>30</td>\n",
              "      <td>NaN</td>\n",
              "      <td>0</td>\n",
              "      <td>2</td>\n",
              "      <td>0</td>\n",
              "      <td>76</td>\n",
              "      <td>0</td>\n",
              "    </tr>\n",
              "  </tbody>\n",
              "</table>\n",
              "</div>"
            ],
            "text/plain": [
              "           ID  Estimated_Insects_Count  ...  ID_value  nan_pattern\n",
              "5   F00000008                      448  ...         8            0\n",
              "6   F00000009                      448  ...         9            0\n",
              "10  F00000021                     1212  ...        21            0\n",
              "17  F00000037                     2401  ...        37            0\n",
              "35  F00000076                      257  ...        76            0\n",
              "\n",
              "[5 rows x 12 columns]"
            ]
          },
          "metadata": {
            "tags": []
          },
          "execution_count": 48
        }
      ]
    },
    {
      "cell_type": "markdown",
      "metadata": {
        "id": "Us7V12G9UdCO",
        "colab_type": "text"
      },
      "source": [
        "#Visualizing our insights"
      ]
    },
    {
      "cell_type": "markdown",
      "metadata": {
        "id": "Y0FZpGmMCspk",
        "colab_type": "text"
      },
      "source": [
        "Frequency of datapoints in respective columns"
      ]
    },
    {
      "cell_type": "code",
      "metadata": {
        "id": "1TAe50llm3zj",
        "colab_type": "code",
        "colab": {
          "base_uri": "https://localhost:8080/",
          "height": 606
        },
        "outputId": "14505c1e-e833-4074-804d-1ba16f8b9407"
      },
      "source": [
        "data.hist(bins = 50, figsize = (20,10))\n",
        "plt.show()"
      ],
      "execution_count": 49,
      "outputs": [
        {
          "output_type": "display_data",
          "data": {
            "image/png": "[encoded data removed]",
            "text/plain": [
              "<Figure size 1440x720 with 12 Axes>"
            ]
          },
          "metadata": {
            "tags": [],
            "needs_background": "light"
          }
        }
      ]
    },
    {
      "cell_type": "markdown",
      "metadata": {
        "id": "bQNOxQSvrUhr",
        "colab_type": "text"
      },
      "source": [
        "Graphical correlation"
      ]
    },
    {
      "cell_type": "code",
      "metadata": {
        "id": "YSonHDg59XfR",
        "colab_type": "code",
        "colab": {
          "base_uri": "https://localhost:8080/",
          "height": 230
        },
        "outputId": "4884b67a-e6f0-436b-c90e-45d6aec9a497"
      },
      "source": [
        "data.columns.to_list()"
      ],
      "execution_count": 50,
      "outputs": [
        {
          "output_type": "execute_result",
          "data": {
            "text/plain": [
              "['ID',\n",
              " 'Estimated_Insects_Count',\n",
              " 'Crop_Type',\n",
              " 'Soil_Type',\n",
              " 'Pesticide_Use_Category',\n",
              " 'Number_Doses_Week',\n",
              " 'Number_Weeks_Used',\n",
              " 'Number_Weeks_Quit',\n",
              " 'Season',\n",
              " 'Crop_Damage',\n",
              " 'ID_value',\n",
              " 'nan_pattern']"
            ]
          },
          "metadata": {
            "tags": []
          },
          "execution_count": 50
        }
      ]
    },
    {
      "cell_type": "code",
      "metadata": {
        "id": "Fruhlu9wsVne",
        "colab_type": "code",
        "colab": {
          "base_uri": "https://localhost:8080/",
          "height": 451
        },
        "outputId": "fa84ba6d-5b07-4c11-9c48-7e2f1fc86b82"
      },
      "source": [
        "plt.figure(figsize = (10, 10))\n",
        "x = data['Crop_Damage'].to_list()\n",
        "cols = data.columns.to_list()[1:]\n",
        "count = 1\n",
        "for i in cols:\n",
        "  if i != 'Crop_Damage':\n",
        "    y = data[i].values.tolist()\n",
        "    plt.subplot(4, 4, count)\n",
        "    count += 1\n",
        "    sns.regplot(x, y)\n",
        "    plt.xlabel('Crop_Damage'); plt.ylabel(i)\n",
        "    plt.xticks([]); plt.yticks([])\n",
        "\n"
      ],
      "execution_count": 51,
      "outputs": [
        {
          "output_type": "display_data",
          "data": {
            "image/png": "[encoded data removed]",
            "text/plain": [
              "<Figure size 720x720 with 10 Axes>"
            ]
          },
          "metadata": {
            "tags": []
          }
        }
      ]
    },
    {
      "cell_type": "markdown",
      "metadata": {
        "id": "5XHUSkR6rQHa",
        "colab_type": "text"
      },
      "source": [
        "Heatmap correlation"
      ]
    },
    {
      "cell_type": "code",
      "metadata": {
        "id": "67eKjZepApWG",
        "colab_type": "code",
        "colab": {
          "base_uri": "https://localhost:8080/",
          "height": 438
        },
        "outputId": "eba57725-14a7-44f6-e14a-b12bf63bbdc3"
      },
      "source": [
        "_, ax = plt.subplots(figsize = (20, 5))\n",
        "sns.heatmap(data.corr(), annot=True, ax = ax)\n",
        "plt.show()"
      ],
      "execution_count": 52,
      "outputs": [
        {
          "output_type": "display_data",
          "data": {
            "image/png": "[encoded data removed]",
            "text/plain": [
              "<Figure size 1440x360 with 2 Axes>"
            ]
          },
          "metadata": {
            "tags": [],
            "needs_background": "light"
          }
        }
      ]
    },
    {
      "cell_type": "markdown",
      "metadata": {
        "id": "FmUWfWOyBC4u",
        "colab_type": "text"
      },
      "source": [
        "Unique Values\n"
      ]
    },
    {
      "cell_type": "code",
      "metadata": {
        "id": "_ygaOl-tBG_P",
        "colab_type": "code",
        "colab": {
          "base_uri": "https://localhost:8080/",
          "height": 123
        },
        "outputId": "b17c097d-7563-4ab0-9864-49b4f06cc682"
      },
      "source": [
        "cols = data.columns.tolist()\n",
        "for col in cols[1:]:\n",
        "  size_condition = len(data[col].unique().tolist())\n",
        "  if (size_condition<5):\n",
        "    print(f\"Unique values in {col} : {data[col].unique().tolist()}\")\n"
      ],
      "execution_count": 53,
      "outputs": [
        {
          "output_type": "stream",
          "text": [
            "Unique values in Crop_Type : [0, 1]\n",
            "Unique values in Soil_Type : [1, 0]\n",
            "Unique values in Pesticide_Use_Category : [1, 3, 2]\n",
            "Unique values in Season : [2, 3, 1]\n",
            "Unique values in Crop_Damage : [1, 0, 2]\n",
            "Unique values in nan_pattern : [0, 1]\n"
          ],
          "name": "stdout"
        }
      ]
    },
    {
      "cell_type": "markdown",
      "metadata": {
        "id": "dskldRqNH9M8",
        "colab_type": "text"
      },
      "source": [
        "##Features and Labels\n"
      ]
    },
    {
      "cell_type": "code",
      "metadata": {
        "id": "LOuDpoB6n6XO",
        "colab_type": "code",
        "colab": {
          "base_uri": "https://localhost:8080/",
          "height": 230
        },
        "outputId": "7503f3be-6469-4a3e-8d63-7319cb0f2e01"
      },
      "source": [
        "data.columns.to_list()"
      ],
      "execution_count": 54,
      "outputs": [
        {
          "output_type": "execute_result",
          "data": {
            "text/plain": [
              "['ID',\n",
              " 'Estimated_Insects_Count',\n",
              " 'Crop_Type',\n",
              " 'Soil_Type',\n",
              " 'Pesticide_Use_Category',\n",
              " 'Number_Doses_Week',\n",
              " 'Number_Weeks_Used',\n",
              " 'Number_Weeks_Quit',\n",
              " 'Season',\n",
              " 'Crop_Damage',\n",
              " 'ID_value',\n",
              " 'nan_pattern']"
            ]
          },
          "metadata": {
            "tags": []
          },
          "execution_count": 54
        }
      ]
    },
    {
      "cell_type": "markdown",
      "metadata": {
        "id": "e7QfpHZ6rfFa",
        "colab_type": "text"
      },
      "source": [
        "Declaring our labels and features"
      ]
    },
    {
      "cell_type": "code",
      "metadata": {
        "id": "-VhHG1rTgpRH",
        "colab_type": "code",
        "colab": {
          "base_uri": "https://localhost:8080/",
          "height": 227
        },
        "outputId": "a27b29b0-b6aa-4a39-e4e3-dde70925ede2"
      },
      "source": [
        "labels = data.Crop_Damage.values\n",
        "features = data.drop(['ID', 'Crop_Damage'], axis = 1)\n",
        "features.head(6)"
      ],
      "execution_count": 55,
      "outputs": [
        {
          "output_type": "execute_result",
          "data": {
            "text/html": [
              "<div>\n",
              "<style scoped>\n",
              "    .dataframe tbody tr th:only-of-type {\n",
              "        vertical-align: middle;\n",
              "    }\n",
              "\n",
              "    .dataframe tbody tr th {\n",
              "        vertical-align: top;\n",
              "    }\n",
              "\n",
              "    .dataframe thead th {\n",
              "        text-align: right;\n",
              "    }\n",
              "</style>\n",
              "<table border=\"1\" class=\"dataframe\">\n",
              "  <thead>\n",
              "    <tr style=\"text-align: right;\">\n",
              "      <th></th>\n",
              "      <th>Estimated_Insects_Count</th>\n",
              "      <th>Crop_Type</th>\n",
              "      <th>Soil_Type</th>\n",
              "      <th>Pesticide_Use_Category</th>\n",
              "      <th>Number_Doses_Week</th>\n",
              "      <th>Number_Weeks_Used</th>\n",
              "      <th>Number_Weeks_Quit</th>\n",
              "      <th>Season</th>\n",
              "      <th>ID_value</th>\n",
              "      <th>nan_pattern</th>\n",
              "    </tr>\n",
              "  </thead>\n",
              "  <tbody>\n",
              "    <tr>\n",
              "      <th>5</th>\n",
              "      <td>448</td>\n",
              "      <td>0</td>\n",
              "      <td>1</td>\n",
              "      <td>1</td>\n",
              "      <td>0</td>\n",
              "      <td>NaN</td>\n",
              "      <td>0</td>\n",
              "      <td>2</td>\n",
              "      <td>8</td>\n",
              "      <td>0</td>\n",
              "    </tr>\n",
              "    <tr>\n",
              "      <th>6</th>\n",
              "      <td>448</td>\n",
              "      <td>0</td>\n",
              "      <td>1</td>\n",
              "      <td>1</td>\n",
              "      <td>0</td>\n",
              "      <td>NaN</td>\n",
              "      <td>0</td>\n",
              "      <td>2</td>\n",
              "      <td>9</td>\n",
              "      <td>0</td>\n",
              "    </tr>\n",
              "    <tr>\n",
              "      <th>10</th>\n",
              "      <td>1212</td>\n",
              "      <td>1</td>\n",
              "      <td>0</td>\n",
              "      <td>1</td>\n",
              "      <td>0</td>\n",
              "      <td>NaN</td>\n",
              "      <td>0</td>\n",
              "      <td>3</td>\n",
              "      <td>21</td>\n",
              "      <td>0</td>\n",
              "    </tr>\n",
              "    <tr>\n",
              "      <th>17</th>\n",
              "      <td>2401</td>\n",
              "      <td>0</td>\n",
              "      <td>1</td>\n",
              "      <td>1</td>\n",
              "      <td>0</td>\n",
              "      <td>NaN</td>\n",
              "      <td>0</td>\n",
              "      <td>1</td>\n",
              "      <td>37</td>\n",
              "      <td>0</td>\n",
              "    </tr>\n",
              "    <tr>\n",
              "      <th>35</th>\n",
              "      <td>257</td>\n",
              "      <td>0</td>\n",
              "      <td>0</td>\n",
              "      <td>3</td>\n",
              "      <td>30</td>\n",
              "      <td>NaN</td>\n",
              "      <td>0</td>\n",
              "      <td>2</td>\n",
              "      <td>76</td>\n",
              "      <td>0</td>\n",
              "    </tr>\n",
              "    <tr>\n",
              "      <th>51</th>\n",
              "      <td>411</td>\n",
              "      <td>0</td>\n",
              "      <td>0</td>\n",
              "      <td>3</td>\n",
              "      <td>30</td>\n",
              "      <td>NaN</td>\n",
              "      <td>0</td>\n",
              "      <td>2</td>\n",
              "      <td>105</td>\n",
              "      <td>0</td>\n",
              "    </tr>\n",
              "  </tbody>\n",
              "</table>\n",
              "</div>"
            ],
            "text/plain": [
              "    Estimated_Insects_Count  Crop_Type  ...  ID_value  nan_pattern\n",
              "5                       448          0  ...         8            0\n",
              "6                       448          0  ...         9            0\n",
              "10                     1212          1  ...        21            0\n",
              "17                     2401          0  ...        37            0\n",
              "35                      257          0  ...        76            0\n",
              "51                      411          0  ...       105            0\n",
              "\n",
              "[6 rows x 10 columns]"
            ]
          },
          "metadata": {
            "tags": []
          },
          "execution_count": 55
        }
      ]
    },
    {
      "cell_type": "markdown",
      "metadata": {
        "id": "PpjUkQfxrkOe",
        "colab_type": "text"
      },
      "source": [
        "##Replacing the missing values"
      ]
    },
    {
      "cell_type": "code",
      "metadata": {
        "id": "GJDdfZMBtYao",
        "colab_type": "code",
        "colab": {
          "base_uri": "https://localhost:8080/",
          "height": 227
        },
        "outputId": "d1d809a9-7978-4895-92e8-06ed04d3fd07"
      },
      "source": [
        "# imputer = SimpleImputer(strategy = 'mean')\n",
        "# features['Number_Weeks_Used'] = imputer.fit_transform(features[[\"Number_Weeks_Used\"]])\n",
        "\n",
        "features['Number_Weeks_Used'].fillna(-1, inplace = True)\n",
        "features.head(6)"
      ],
      "execution_count": 56,
      "outputs": [
        {
          "output_type": "execute_result",
          "data": {
            "text/html": [
              "<div>\n",
              "<style scoped>\n",
              "    .dataframe tbody tr th:only-of-type {\n",
              "        vertical-align: middle;\n",
              "    }\n",
              "\n",
              "    .dataframe tbody tr th {\n",
              "        vertical-align: top;\n",
              "    }\n",
              "\n",
              "    .dataframe thead th {\n",
              "        text-align: right;\n",
              "    }\n",
              "</style>\n",
              "<table border=\"1\" class=\"dataframe\">\n",
              "  <thead>\n",
              "    <tr style=\"text-align: right;\">\n",
              "      <th></th>\n",
              "      <th>Estimated_Insects_Count</th>\n",
              "      <th>Crop_Type</th>\n",
              "      <th>Soil_Type</th>\n",
              "      <th>Pesticide_Use_Category</th>\n",
              "      <th>Number_Doses_Week</th>\n",
              "      <th>Number_Weeks_Used</th>\n",
              "      <th>Number_Weeks_Quit</th>\n",
              "      <th>Season</th>\n",
              "      <th>ID_value</th>\n",
              "      <th>nan_pattern</th>\n",
              "    </tr>\n",
              "  </thead>\n",
              "  <tbody>\n",
              "    <tr>\n",
              "      <th>5</th>\n",
              "      <td>448</td>\n",
              "      <td>0</td>\n",
              "      <td>1</td>\n",
              "      <td>1</td>\n",
              "      <td>0</td>\n",
              "      <td>-1.0</td>\n",
              "      <td>0</td>\n",
              "      <td>2</td>\n",
              "      <td>8</td>\n",
              "      <td>0</td>\n",
              "    </tr>\n",
              "    <tr>\n",
              "      <th>6</th>\n",
              "      <td>448</td>\n",
              "      <td>0</td>\n",
              "      <td>1</td>\n",
              "      <td>1</td>\n",
              "      <td>0</td>\n",
              "      <td>-1.0</td>\n",
              "      <td>0</td>\n",
              "      <td>2</td>\n",
              "      <td>9</td>\n",
              "      <td>0</td>\n",
              "    </tr>\n",
              "    <tr>\n",
              "      <th>10</th>\n",
              "      <td>1212</td>\n",
              "      <td>1</td>\n",
              "      <td>0</td>\n",
              "      <td>1</td>\n",
              "      <td>0</td>\n",
              "      <td>-1.0</td>\n",
              "      <td>0</td>\n",
              "      <td>3</td>\n",
              "      <td>21</td>\n",
              "      <td>0</td>\n",
              "    </tr>\n",
              "    <tr>\n",
              "      <th>17</th>\n",
              "      <td>2401</td>\n",
              "      <td>0</td>\n",
              "      <td>1</td>\n",
              "      <td>1</td>\n",
              "      <td>0</td>\n",
              "      <td>-1.0</td>\n",
              "      <td>0</td>\n",
              "      <td>1</td>\n",
              "      <td>37</td>\n",
              "      <td>0</td>\n",
              "    </tr>\n",
              "    <tr>\n",
              "      <th>35</th>\n",
              "      <td>257</td>\n",
              "      <td>0</td>\n",
              "      <td>0</td>\n",
              "      <td>3</td>\n",
              "      <td>30</td>\n",
              "      <td>-1.0</td>\n",
              "      <td>0</td>\n",
              "      <td>2</td>\n",
              "      <td>76</td>\n",
              "      <td>0</td>\n",
              "    </tr>\n",
              "    <tr>\n",
              "      <th>51</th>\n",
              "      <td>411</td>\n",
              "      <td>0</td>\n",
              "      <td>0</td>\n",
              "      <td>3</td>\n",
              "      <td>30</td>\n",
              "      <td>-1.0</td>\n",
              "      <td>0</td>\n",
              "      <td>2</td>\n",
              "      <td>105</td>\n",
              "      <td>0</td>\n",
              "    </tr>\n",
              "  </tbody>\n",
              "</table>\n",
              "</div>"
            ],
            "text/plain": [
              "    Estimated_Insects_Count  Crop_Type  ...  ID_value  nan_pattern\n",
              "5                       448          0  ...         8            0\n",
              "6                       448          0  ...         9            0\n",
              "10                     1212          1  ...        21            0\n",
              "17                     2401          0  ...        37            0\n",
              "35                      257          0  ...        76            0\n",
              "51                      411          0  ...       105            0\n",
              "\n",
              "[6 rows x 10 columns]"
            ]
          },
          "metadata": {
            "tags": []
          },
          "execution_count": 56
        }
      ]
    },
    {
      "cell_type": "markdown",
      "metadata": {
        "id": "2R78QJqprqEB",
        "colab_type": "text"
      },
      "source": [
        "##Standardizing the missing values"
      ]
    },
    {
      "cell_type": "code",
      "metadata": {
        "id": "34rV6DGepq1n",
        "colab_type": "code",
        "colab": {
          "base_uri": "https://localhost:8080/",
          "height": 34
        },
        "outputId": "31f40f01-981b-43d1-bec0-b7b74f4c346d"
      },
      "source": [
        "features_scc = StandardScaler()\n",
        "features = features_scc.fit_transform(features)\n",
        "features.shape"
      ],
      "execution_count": 57,
      "outputs": [
        {
          "output_type": "execute_result",
          "data": {
            "text/plain": [
              "(88858, 10)"
            ]
          },
          "metadata": {
            "tags": []
          },
          "execution_count": 57
        }
      ]
    },
    {
      "cell_type": "markdown",
      "metadata": {
        "id": "ncjWERtxrxgq",
        "colab_type": "text"
      },
      "source": [
        "##Splitting our features and labels"
      ]
    },
    {
      "cell_type": "code",
      "metadata": {
        "id": "eKRkZfwOrBjj",
        "colab_type": "code",
        "colab": {
          "base_uri": "https://localhost:8080/",
          "height": 87
        },
        "outputId": "1c052481-0734-427c-eff7-a2f0401b9786"
      },
      "source": [
        "x_train, x_val, y_train, y_val = train_test_split(features, labels, random_state = 20, test_size = 0.3)\n",
        "print(f\"Shape of x_train is : {x_train.shape}\")\n",
        "print(f\"Shape of y_train is : {y_train.shape}\")\n",
        "print(f\"Shape of x_val is : {x_val.shape}\")\n",
        "print(f\"Shape of y_val is : {y_val.shape}\")"
      ],
      "execution_count": 103,
      "outputs": [
        {
          "output_type": "stream",
          "text": [
            "Shape of x_train is : (62200, 10)\n",
            "Shape of y_train is : (62200,)\n",
            "Shape of x_val is : (26658, 10)\n",
            "Shape of y_val is : (26658,)\n"
          ],
          "name": "stdout"
        }
      ]
    },
    {
      "cell_type": "markdown",
      "metadata": {
        "id": "gi3TsWrJsv8l",
        "colab_type": "text"
      },
      "source": [
        "# Using different Models"
      ]
    },
    {
      "cell_type": "markdown",
      "metadata": {
        "id": "Zp7AReoscgkv",
        "colab_type": "text"
      },
      "source": [
        "## **1. Kernel SVM**"
      ]
    },
    {
      "cell_type": "code",
      "metadata": {
        "id": "OGFfeOKnckga",
        "colab_type": "code",
        "colab": {
          "base_uri": "https://localhost:8080/",
          "height": 87
        },
        "outputId": "c98d79cc-24bc-4b98-f035-06f566d4d765"
      },
      "source": [
        "from sklearn.svm import SVC\n",
        "ksvc = SVC(kernel = \"linear\", random_state = 0)\n",
        "ksvc.fit(x_train, y_train)"
      ],
      "execution_count": 87,
      "outputs": [
        {
          "output_type": "execute_result",
          "data": {
            "text/plain": [
              "SVC(C=1.0, break_ties=False, cache_size=200, class_weight=None, coef0=0.0,\n",
              "    decision_function_shape='ovr', degree=3, gamma='scale', kernel='linear',\n",
              "    max_iter=-1, probability=False, random_state=0, shrinking=True, tol=0.001,\n",
              "    verbose=False)"
            ]
          },
          "metadata": {
            "tags": []
          },
          "execution_count": 87
        }
      ]
    },
    {
      "cell_type": "code",
      "metadata": {
        "id": "pNSQKHdbc6ny",
        "colab_type": "code",
        "colab": {
          "base_uri": "https://localhost:8080/",
          "height": 52
        },
        "outputId": "2368e659-20ae-4c01-d8b8-e1b87714daee"
      },
      "source": [
        "ksvc_y_train_pred = ksvc.predict(x_train)\n",
        "y_val_pred = ksvc.predict(x_val)\n",
        "\n",
        "print(f\"Train accuracy : {accuracy_score(y_train, ksvc_y_train_pred)*100}\")\n",
        "print(f\"Validation accuracy : {accuracy_score(y_val, y_val_pred)*100}\")"
      ],
      "execution_count": 89,
      "outputs": [
        {
          "output_type": "stream",
          "text": [
            "Train accuracy : 83.55627009646302\n",
            "Validation accuracy : 83.52464550979069\n"
          ],
          "name": "stdout"
        }
      ]
    },
    {
      "cell_type": "markdown",
      "metadata": {
        "id": "KcJoyzEGa_u3",
        "colab_type": "text"
      },
      "source": [
        "## **2. DTC**"
      ]
    },
    {
      "cell_type": "code",
      "metadata": {
        "id": "KYLUeJY_bFzW",
        "colab_type": "code",
        "colab": {
          "base_uri": "https://localhost:8080/",
          "height": 123
        },
        "outputId": "044edbfc-a1a8-4afe-b4be-10e13fb1d3b1"
      },
      "source": [
        "from sklearn.tree import DecisionTreeClassifier\n",
        "dtc = DecisionTreeClassifier(criterion=\"entropy\", random_state=0)\n",
        "dtc.fit(x_train, y_train)"
      ],
      "execution_count": 92,
      "outputs": [
        {
          "output_type": "execute_result",
          "data": {
            "text/plain": [
              "DecisionTreeClassifier(ccp_alpha=0.0, class_weight=None, criterion='entropy',\n",
              "                       max_depth=None, max_features=None, max_leaf_nodes=None,\n",
              "                       min_impurity_decrease=0.0, min_impurity_split=None,\n",
              "                       min_samples_leaf=1, min_samples_split=2,\n",
              "                       min_weight_fraction_leaf=0.0, presort='deprecated',\n",
              "                       random_state=0, splitter='best')"
            ]
          },
          "metadata": {
            "tags": []
          },
          "execution_count": 92
        }
      ]
    },
    {
      "cell_type": "code",
      "metadata": {
        "id": "7uI_4HRPbYpU",
        "colab_type": "code",
        "colab": {
          "base_uri": "https://localhost:8080/",
          "height": 52
        },
        "outputId": "d36fed02-7516-4382-8493-fa15e0616706"
      },
      "source": [
        "dtc_y_train_pred = dtc.predict(x_train)\n",
        "y_val_pred = dtc.predict(x_val)\n",
        "\n",
        "print(f\"Train accuracy : {accuracy_score(y_train, dtc_y_train_pred)*100}\")\n",
        "print(f\"Validation accuracy : {accuracy_score(y_val, y_val_pred)*100}\")"
      ],
      "execution_count": 93,
      "outputs": [
        {
          "output_type": "stream",
          "text": [
            "Train accuracy : 100.0\n",
            "Validation accuracy : 75.49328531772827\n"
          ],
          "name": "stdout"
        }
      ]
    },
    {
      "cell_type": "markdown",
      "metadata": {
        "id": "7s34uJzGbney",
        "colab_type": "text"
      },
      "source": [
        "## **3. RandomForest approach**"
      ]
    },
    {
      "cell_type": "code",
      "metadata": {
        "id": "c0LmgGEebsEc",
        "colab_type": "code",
        "colab": {
          "base_uri": "https://localhost:8080/",
          "height": 158
        },
        "outputId": "bf493b75-25c3-4690-d5ba-aa1cd871f997"
      },
      "source": [
        "from sklearn.ensemble import RandomForestClassifier\n",
        "rfc = RandomForestClassifier(n_estimators=200, criterion='entropy', random_state=0)\n",
        "rfc.fit(x_train, y_train)"
      ],
      "execution_count": 94,
      "outputs": [
        {
          "output_type": "execute_result",
          "data": {
            "text/plain": [
              "RandomForestClassifier(bootstrap=True, ccp_alpha=0.0, class_weight=None,\n",
              "                       criterion='entropy', max_depth=None, max_features='auto',\n",
              "                       max_leaf_nodes=None, max_samples=None,\n",
              "                       min_impurity_decrease=0.0, min_impurity_split=None,\n",
              "                       min_samples_leaf=1, min_samples_split=2,\n",
              "                       min_weight_fraction_leaf=0.0, n_estimators=200,\n",
              "                       n_jobs=None, oob_score=False, random_state=0, verbose=0,\n",
              "                       warm_start=False)"
            ]
          },
          "metadata": {
            "tags": []
          },
          "execution_count": 94
        }
      ]
    },
    {
      "cell_type": "code",
      "metadata": {
        "id": "94ZznC4pbl-Y",
        "colab_type": "code",
        "colab": {
          "base_uri": "https://localhost:8080/",
          "height": 52
        },
        "outputId": "d5ae8387-df14-43a9-9de2-a220e56788ff"
      },
      "source": [
        "rfc_y_train_pred = rfc.predict(x_train)\n",
        "y_val_pred = rfc.predict(x_val)\n",
        "\n",
        "print(f\"Train accuracy : {accuracy_score(y_train, rfc_y_train_pred)*100}\")\n",
        "print(f\"Validation accuracy : {accuracy_score(y_val, y_val_pred)*100}\")"
      ],
      "execution_count": 75,
      "outputs": [
        {
          "output_type": "stream",
          "text": [
            "Train accuracy : 100.0\n",
            "Validation accuracy : 83.378347963088\n"
          ],
          "name": "stdout"
        }
      ]
    },
    {
      "cell_type": "markdown",
      "metadata": {
        "id": "KJOmpxEis5r7",
        "colab_type": "text"
      },
      "source": [
        "## **4. AdaBoost approach**"
      ]
    },
    {
      "cell_type": "code",
      "metadata": {
        "id": "F-8y2LDnsYpp",
        "colab_type": "code",
        "colab": {
          "base_uri": "https://localhost:8080/",
          "height": 301
        },
        "outputId": "a07fa71e-3d7a-40d9-eae2-78fa940ee344"
      },
      "source": [
        "dtc = DecisionTreeClassifier(criterion='entropy', max_depth = 2)\n",
        "adaBoost = AdaBoostClassifier(base_estimator=dtc, n_estimators= 800, learning_rate=0.05)\n",
        "adaBoost.fit(x_train, y_train)"
      ],
      "execution_count": 95,
      "outputs": [
        {
          "output_type": "execute_result",
          "data": {
            "text/plain": [
              "AdaBoostClassifier(algorithm='SAMME.R',\n",
              "                   base_estimator=DecisionTreeClassifier(ccp_alpha=0.0,\n",
              "                                                         class_weight=None,\n",
              "                                                         criterion='entropy',\n",
              "                                                         max_depth=2,\n",
              "                                                         max_features=None,\n",
              "                                                         max_leaf_nodes=None,\n",
              "                                                         min_impurity_decrease=0.0,\n",
              "                                                         min_impurity_split=None,\n",
              "                                                         min_samples_leaf=1,\n",
              "                                                         min_samples_split=2,\n",
              "                                                         min_weight_fraction_leaf=0.0,\n",
              "                                                         presort='deprecated',\n",
              "                                                         random_state=None,\n",
              "                                                         splitter='best'),\n",
              "                   learning_rate=0.05, n_estimators=800, random_state=None)"
            ]
          },
          "metadata": {
            "tags": []
          },
          "execution_count": 95
        }
      ]
    },
    {
      "cell_type": "code",
      "metadata": {
        "id": "N7S8P9muumy5",
        "colab_type": "code",
        "colab": {
          "base_uri": "https://localhost:8080/",
          "height": 52
        },
        "outputId": "655f3f95-8596-49fe-e96a-99e47af6c71e"
      },
      "source": [
        "adaboost_y_train_pred = adaBoost.predict(x_train)\n",
        "adaboost_y_val_pred = adaBoost.predict(x_val)\n",
        "\n",
        "print(f\"Train accuracy : {accuracy_score(y_train, adaboost_y_train_pred)*100}\")\n",
        "print(f\"Validation accuracy : {accuracy_score(y_val, adaboost_y_val_pred)*100}\")"
      ],
      "execution_count": 96,
      "outputs": [
        {
          "output_type": "stream",
          "text": [
            "Train accuracy : 84.40836012861736\n",
            "Validation accuracy : 84.33115762622853\n"
          ],
          "name": "stdout"
        }
      ]
    },
    {
      "cell_type": "markdown",
      "metadata": {
        "id": "9b7fbaOSzPaV",
        "colab_type": "text"
      },
      "source": [
        "## **5. XGBoost approach**"
      ]
    },
    {
      "cell_type": "code",
      "metadata": {
        "id": "y6AZTLg9ve_G",
        "colab_type": "code",
        "colab": {
          "base_uri": "https://localhost:8080/",
          "height": 141
        },
        "outputId": "0112efc3-46ee-4520-a3af-38099e19041a"
      },
      "source": [
        "xgboost_model = XGBClassifier(max_delta = 3,\n",
        "                              subsample = 0.8,\n",
        "                              n_estimators = 400,\n",
        "                              min_child_weight = 1,\n",
        "                              random_state= 5,\n",
        "                              learning_rate = 0.05)\n",
        "\n",
        "# params = max_delta = 3,\n",
        "#         subsample = 0.8,\n",
        "#         n_estimators = 400,\n",
        "#         min_child_weight = 1,\n",
        "#         random_state= 5,\n",
        "#         learning_rate = 0.05\n",
        "\n",
        "xgboost_model.fit(x_train, y_train)"
      ],
      "execution_count": 106,
      "outputs": [
        {
          "output_type": "execute_result",
          "data": {
            "text/plain": [
              "XGBClassifier(base_score=0.5, booster='gbtree', colsample_bylevel=1,\n",
              "              colsample_bynode=1, colsample_bytree=1, gamma=0,\n",
              "              learning_rate=0.05, max_delta=3, max_delta_step=0, max_depth=3,\n",
              "              min_child_weight=1, missing=None, n_estimators=400, n_jobs=1,\n",
              "              nthread=None, objective='multi:softprob', random_state=5,\n",
              "              reg_alpha=0, reg_lambda=1, scale_pos_weight=1, seed=None,\n",
              "              silent=None, subsample=0.8, verbosity=1)"
            ]
          },
          "metadata": {
            "tags": []
          },
          "execution_count": 106
        }
      ]
    },
    {
      "cell_type": "code",
      "metadata": {
        "id": "dB2xKwKW0mts",
        "colab_type": "code",
        "colab": {
          "base_uri": "https://localhost:8080/",
          "height": 52
        },
        "outputId": "6be1b8a7-612b-4fd6-b028-75ba76993dfa"
      },
      "source": [
        "xgboost_y_train_pred = xgboost_model.predict(x_train)\n",
        "xgboost_y_val_pred = xgboost_model.predict(x_val)\n",
        "\n",
        "print(f\"Train accuracy : {accuracy_score(y_train, xgboost_y_train_pred)*100}\")\n",
        "print(f\"Validation accuracy : {accuracy_score(y_val, xgboost_y_val_pred)*100}\")"
      ],
      "execution_count": 108,
      "outputs": [
        {
          "output_type": "stream",
          "text": [
            "Train accuracy : 84.79421221864952\n",
            "Validation accuracy : 84.45119663890765\n"
          ],
          "name": "stdout"
        }
      ]
    },
    {
      "cell_type": "markdown",
      "metadata": {
        "id": "JUrCyLxk3uLu",
        "colab_type": "text"
      },
      "source": [
        "## **6. Neural Network approach**"
      ]
    },
    {
      "cell_type": "markdown",
      "metadata": {
        "id": "zLff7rDB33jd",
        "colab_type": "text"
      },
      "source": [
        "Importing modules"
      ]
    },
    {
      "cell_type": "code",
      "metadata": {
        "id": "3B-CAvju0uEE",
        "colab_type": "code",
        "colab": {}
      },
      "source": [
        "import tensorflow as tf\n",
        "from tensorflow.keras.models import Sequential\n",
        "from tensorflow.keras.layers import Dense, Activation\n",
        "from tensorflow.keras.utils import to_categorical\n",
        "from tensorflow.keras.optimizers import Adam\n",
        "from tensorflow.keras.utils import to_categorical"
      ],
      "execution_count": 109,
      "outputs": []
    },
    {
      "cell_type": "code",
      "metadata": {
        "id": "bcdgp0cW5fbp",
        "colab_type": "code",
        "colab": {
          "base_uri": "https://localhost:8080/",
          "height": 34
        },
        "outputId": "7d02402a-db19-47e2-9c4c-b2aba68c500f"
      },
      "source": [
        "onehot_labels = to_categorical(labels)\n",
        "onehot_labels.shape"
      ],
      "execution_count": 110,
      "outputs": [
        {
          "output_type": "execute_result",
          "data": {
            "text/plain": [
              "(88858, 3)"
            ]
          },
          "metadata": {
            "tags": []
          },
          "execution_count": 110
        }
      ]
    },
    {
      "cell_type": "code",
      "metadata": {
        "id": "wpzVFnKp5fue",
        "colab_type": "code",
        "colab": {
          "base_uri": "https://localhost:8080/",
          "height": 87
        },
        "outputId": "95a4a62d-92e5-4bea-e2b9-4841ec8af35b"
      },
      "source": [
        "_, _, y_train, y_val = train_test_split(features, onehot_labels, random_state = 20, test_size = 0.3)\n",
        "print(f\"Shape of x_train is : {x_train.shape}\")\n",
        "print(f\"Shape of y_train is : {y_train.shape}\")\n",
        "print(f\"Shape of x_val is : {x_val.shape}\")\n",
        "print(f\"Shape of y_val is : {y_val.shape}\")"
      ],
      "execution_count": 111,
      "outputs": [
        {
          "output_type": "stream",
          "text": [
            "Shape of x_train is : (62200, 10)\n",
            "Shape of y_train is : (62200, 3)\n",
            "Shape of x_val is : (26658, 10)\n",
            "Shape of y_val is : (26658, 3)\n"
          ],
          "name": "stdout"
        }
      ]
    },
    {
      "cell_type": "code",
      "metadata": {
        "id": "9NXcfSf64-m5",
        "colab_type": "code",
        "colab": {
          "base_uri": "https://localhost:8080/",
          "height": 443
        },
        "outputId": "5b3de30b-ca06-452a-cf7f-fff143cc271e"
      },
      "source": [
        "ann = Sequential()\n",
        "ann.add(Dense(7, input_shape = (x_train.shape)))\n",
        "ann.add(Activation(\"relu\"))\n",
        "\n",
        "ann.add(Dense(21))\n",
        "ann.add(Activation(\"relu\"))\n",
        "ann.add(Dense(21))\n",
        "ann.add(Activation(\"relu\"))\n",
        "\n",
        "ann.add(Dense(3))\n",
        "ann.add(Activation(\"softmax\"))\n",
        "\n",
        "ann.compile(optimizer = \"adam\", loss = \"categorical_crossentropy\", metrics = \"accuracy\")\n",
        "ann.summary()"
      ],
      "execution_count": 112,
      "outputs": [
        {
          "output_type": "stream",
          "text": [
            "Model: \"sequential\"\n",
            "_________________________________________________________________\n",
            "Layer (type)                 Output Shape              Param #   \n",
            "=================================================================\n",
            "dense (Dense)                (None, 62200, 7)          77        \n",
            "_________________________________________________________________\n",
            "activation (Activation)      (None, 62200, 7)          0         \n",
            "_________________________________________________________________\n",
            "dense_1 (Dense)              (None, 62200, 21)         168       \n",
            "_________________________________________________________________\n",
            "activation_1 (Activation)    (None, 62200, 21)         0         \n",
            "_________________________________________________________________\n",
            "dense_2 (Dense)              (None, 62200, 21)         462       \n",
            "_________________________________________________________________\n",
            "activation_2 (Activation)    (None, 62200, 21)         0         \n",
            "_________________________________________________________________\n",
            "dense_3 (Dense)              (None, 62200, 3)          66        \n",
            "_________________________________________________________________\n",
            "activation_3 (Activation)    (None, 62200, 3)          0         \n",
            "=================================================================\n",
            "Total params: 773\n",
            "Trainable params: 773\n",
            "Non-trainable params: 0\n",
            "_________________________________________________________________\n"
          ],
          "name": "stdout"
        }
      ]
    },
    {
      "cell_type": "code",
      "metadata": {
        "id": "IZHBMERr6E-6",
        "colab_type": "code",
        "colab": {
          "base_uri": "https://localhost:8080/",
          "height": 445
        },
        "outputId": "90924106-6eaa-43e8-fc10-3316bf86262b"
      },
      "source": [
        "epochs = 10; \n",
        "ann_history = ann.fit(x_train, y_train,\n",
        "                    validation_data = (x_val, y_val),\n",
        "                    epochs = epochs,\n",
        "                    verbose =1)"
      ],
      "execution_count": 113,
      "outputs": [
        {
          "output_type": "stream",
          "text": [
            "Epoch 1/10\n",
            "WARNING:tensorflow:Model was constructed with shape (None, 62200, 10) for input Tensor(\"dense_input:0\", shape=(None, 62200, 10), dtype=float32), but it was called on an input with incompatible shape (None, 10).\n",
            "WARNING:tensorflow:Model was constructed with shape (None, 62200, 10) for input Tensor(\"dense_input:0\", shape=(None, 62200, 10), dtype=float32), but it was called on an input with incompatible shape (None, 10).\n",
            "1934/1944 [============================>.] - ETA: 0s - loss: 0.4839 - accuracy: 0.8293WARNING:tensorflow:Model was constructed with shape (None, 62200, 10) for input Tensor(\"dense_input:0\", shape=(None, 62200, 10), dtype=float32), but it was called on an input with incompatible shape (None, 10).\n",
            "1944/1944 [==============================] - 9s 5ms/step - loss: 0.4842 - accuracy: 0.8291 - val_loss: 0.4551 - val_accuracy: 0.8332\n",
            "Epoch 2/10\n",
            "1944/1944 [==============================] - 9s 5ms/step - loss: 0.4430 - accuracy: 0.8386 - val_loss: 0.4439 - val_accuracy: 0.8397\n",
            "Epoch 3/10\n",
            "1944/1944 [==============================] - 9s 5ms/step - loss: 0.4379 - accuracy: 0.8400 - val_loss: 0.4414 - val_accuracy: 0.8397\n",
            "Epoch 4/10\n",
            "1944/1944 [==============================] - 9s 5ms/step - loss: 0.4366 - accuracy: 0.8405 - val_loss: 0.4421 - val_accuracy: 0.8407\n",
            "Epoch 5/10\n",
            "1944/1944 [==============================] - 9s 5ms/step - loss: 0.4350 - accuracy: 0.8404 - val_loss: 0.4408 - val_accuracy: 0.8396\n",
            "Epoch 6/10\n",
            "1944/1944 [==============================] - 10s 5ms/step - loss: 0.4340 - accuracy: 0.8406 - val_loss: 0.4373 - val_accuracy: 0.8402\n",
            "Epoch 7/10\n",
            "1944/1944 [==============================] - 9s 5ms/step - loss: 0.4332 - accuracy: 0.8407 - val_loss: 0.4367 - val_accuracy: 0.8397\n",
            "Epoch 8/10\n",
            "1944/1944 [==============================] - 9s 5ms/step - loss: 0.4325 - accuracy: 0.8410 - val_loss: 0.4366 - val_accuracy: 0.8406\n",
            "Epoch 9/10\n",
            "1944/1944 [==============================] - 9s 4ms/step - loss: 0.4322 - accuracy: 0.8413 - val_loss: 0.4366 - val_accuracy: 0.8405\n",
            "Epoch 10/10\n",
            "1944/1944 [==============================] - 9s 5ms/step - loss: 0.4316 - accuracy: 0.8409 - val_loss: 0.4355 - val_accuracy: 0.8411\n"
          ],
          "name": "stdout"
        }
      ]
    },
    {
      "cell_type": "markdown",
      "metadata": {
        "id": "QGXc-qhM32PK",
        "colab_type": "text"
      },
      "source": [
        "plotting loss and accuracy curves"
      ]
    },
    {
      "cell_type": "code",
      "metadata": {
        "id": "c4RvFVG88vzq",
        "colab_type": "code",
        "colab": {}
      },
      "source": [
        "epochs_ = [d for d in range(1, epochs+1)]\n",
        "loss = ann_history.history['loss']\n",
        "val_loss = ann_history.history['val_loss']\n",
        "acc = ann_history.history['accuracy']\n",
        "val_acc = ann_history.history['val_accuracy']"
      ],
      "execution_count": 114,
      "outputs": []
    },
    {
      "cell_type": "code",
      "metadata": {
        "id": "R-MTFGA04ScX",
        "colab_type": "code",
        "colab": {
          "base_uri": "https://localhost:8080/",
          "height": 334
        },
        "outputId": "83212f09-928d-4b65-9e1a-c15574590edd"
      },
      "source": [
        "plt.figure(figsize=(5, 5))\n",
        "plt.xlabel('Epochs'); plt.ylabel('Loss')\n",
        "plt.plot(epochs_, loss, label = 'Training')\n",
        "plt.plot(epochs_, val_loss, label = 'Validation' )\n",
        "plt.legend()\n",
        "plt.show()"
      ],
      "execution_count": 116,
      "outputs": [
        {
          "output_type": "display_data",
          "data": {
            "image/png": "[encoded data removed]",
            "text/plain": [
              "<Figure size 360x360 with 1 Axes>"
            ]
          },
          "metadata": {
            "tags": [],
            "needs_background": "light"
          }
        }
      ]
    },
    {
      "cell_type": "code",
      "metadata": {
        "id": "L4qT7FNQ5pVr",
        "colab_type": "code",
        "colab": {
          "base_uri": "https://localhost:8080/",
          "height": 334
        },
        "outputId": "fe679467-a5c2-459d-d3fd-9e20560ba91f"
      },
      "source": [
        "plt.figure(figsize=(5, 5))\n",
        "plt.xlabel('Epochs'); plt.ylabel('Accuracy')\n",
        "plt.plot(epochs_, acc, label = 'Training')\n",
        "plt.plot(epochs_, val_acc, label = 'Validation' )\n",
        "plt.legend()\n",
        "plt.show()"
      ],
      "execution_count": 117,
      "outputs": [
        {
          "output_type": "display_data",
          "data": {
            "image/png": "[encoded data removed]",
            "text/plain": [
              "<Figure size 360x360 with 1 Axes>"
            ]
          },
          "metadata": {
            "tags": [],
            "needs_background": "light"
          }
        }
      ]
    },
    {
      "cell_type": "markdown",
      "metadata": {
        "id": "qFqXZHm2lbCx",
        "colab_type": "text"
      },
      "source": [
        "##Testing"
      ]
    },
    {
      "cell_type": "code",
      "metadata": {
        "id": "ZNXE8aSs60F1",
        "colab_type": "code",
        "colab": {
          "base_uri": "https://localhost:8080/",
          "height": 197
        },
        "outputId": "1a5c169f-2a5a-4a15-d809-b0f37e7a8f03"
      },
      "source": [
        "test_data = pd.read_csv(\"test.csv\")\n",
        "test_data.head()"
      ],
      "execution_count": 118,
      "outputs": [
        {
          "output_type": "execute_result",
          "data": {
            "text/html": [
              "<div>\n",
              "<style scoped>\n",
              "    .dataframe tbody tr th:only-of-type {\n",
              "        vertical-align: middle;\n",
              "    }\n",
              "\n",
              "    .dataframe tbody tr th {\n",
              "        vertical-align: top;\n",
              "    }\n",
              "\n",
              "    .dataframe thead th {\n",
              "        text-align: right;\n",
              "    }\n",
              "</style>\n",
              "<table border=\"1\" class=\"dataframe\">\n",
              "  <thead>\n",
              "    <tr style=\"text-align: right;\">\n",
              "      <th></th>\n",
              "      <th>ID</th>\n",
              "      <th>Estimated_Insects_Count</th>\n",
              "      <th>Crop_Type</th>\n",
              "      <th>Soil_Type</th>\n",
              "      <th>Pesticide_Use_Category</th>\n",
              "      <th>Number_Doses_Week</th>\n",
              "      <th>Number_Weeks_Used</th>\n",
              "      <th>Number_Weeks_Quit</th>\n",
              "      <th>Season</th>\n",
              "    </tr>\n",
              "  </thead>\n",
              "  <tbody>\n",
              "    <tr>\n",
              "      <th>0</th>\n",
              "      <td>F00000002</td>\n",
              "      <td>188</td>\n",
              "      <td>1</td>\n",
              "      <td>1</td>\n",
              "      <td>1</td>\n",
              "      <td>0</td>\n",
              "      <td>NaN</td>\n",
              "      <td>0</td>\n",
              "      <td>2</td>\n",
              "    </tr>\n",
              "    <tr>\n",
              "      <th>1</th>\n",
              "      <td>F00000007</td>\n",
              "      <td>410</td>\n",
              "      <td>1</td>\n",
              "      <td>1</td>\n",
              "      <td>1</td>\n",
              "      <td>0</td>\n",
              "      <td>0.0</td>\n",
              "      <td>0</td>\n",
              "      <td>2</td>\n",
              "    </tr>\n",
              "    <tr>\n",
              "      <th>2</th>\n",
              "      <td>F00000011</td>\n",
              "      <td>626</td>\n",
              "      <td>1</td>\n",
              "      <td>0</td>\n",
              "      <td>1</td>\n",
              "      <td>0</td>\n",
              "      <td>0.0</td>\n",
              "      <td>0</td>\n",
              "      <td>2</td>\n",
              "    </tr>\n",
              "    <tr>\n",
              "      <th>3</th>\n",
              "      <td>F00000013</td>\n",
              "      <td>731</td>\n",
              "      <td>1</td>\n",
              "      <td>0</td>\n",
              "      <td>1</td>\n",
              "      <td>0</td>\n",
              "      <td>0.0</td>\n",
              "      <td>0</td>\n",
              "      <td>2</td>\n",
              "    </tr>\n",
              "    <tr>\n",
              "      <th>4</th>\n",
              "      <td>F00000014</td>\n",
              "      <td>789</td>\n",
              "      <td>0</td>\n",
              "      <td>0</td>\n",
              "      <td>1</td>\n",
              "      <td>0</td>\n",
              "      <td>0.0</td>\n",
              "      <td>0</td>\n",
              "      <td>1</td>\n",
              "    </tr>\n",
              "  </tbody>\n",
              "</table>\n",
              "</div>"
            ],
            "text/plain": [
              "          ID  Estimated_Insects_Count  ...  Number_Weeks_Quit  Season\n",
              "0  F00000002                      188  ...                  0       2\n",
              "1  F00000007                      410  ...                  0       2\n",
              "2  F00000011                      626  ...                  0       2\n",
              "3  F00000013                      731  ...                  0       2\n",
              "4  F00000014                      789  ...                  0       1\n",
              "\n",
              "[5 rows x 9 columns]"
            ]
          },
          "metadata": {
            "tags": []
          },
          "execution_count": 118
        }
      ]
    },
    {
      "cell_type": "code",
      "metadata": {
        "id": "kSKmYPwMmJXp",
        "colab_type": "code",
        "colab": {
          "base_uri": "https://localhost:8080/",
          "height": 197
        },
        "outputId": "25f35895-0bfe-441a-c9dc-8b0cc5e28451"
      },
      "source": [
        "test_data['ID_value'] = test_data['ID'].apply(lambda x: x.strip('F')).astype('int')\n",
        "test_data.sample(5)"
      ],
      "execution_count": 119,
      "outputs": [
        {
          "output_type": "execute_result",
          "data": {
            "text/html": [
              "<div>\n",
              "<style scoped>\n",
              "    .dataframe tbody tr th:only-of-type {\n",
              "        vertical-align: middle;\n",
              "    }\n",
              "\n",
              "    .dataframe tbody tr th {\n",
              "        vertical-align: top;\n",
              "    }\n",
              "\n",
              "    .dataframe thead th {\n",
              "        text-align: right;\n",
              "    }\n",
              "</style>\n",
              "<table border=\"1\" class=\"dataframe\">\n",
              "  <thead>\n",
              "    <tr style=\"text-align: right;\">\n",
              "      <th></th>\n",
              "      <th>ID</th>\n",
              "      <th>Estimated_Insects_Count</th>\n",
              "      <th>Crop_Type</th>\n",
              "      <th>Soil_Type</th>\n",
              "      <th>Pesticide_Use_Category</th>\n",
              "      <th>Number_Doses_Week</th>\n",
              "      <th>Number_Weeks_Used</th>\n",
              "      <th>Number_Weeks_Quit</th>\n",
              "      <th>Season</th>\n",
              "      <th>ID_value</th>\n",
              "    </tr>\n",
              "  </thead>\n",
              "  <tbody>\n",
              "    <tr>\n",
              "      <th>39604</th>\n",
              "      <td>F00104166</td>\n",
              "      <td>915</td>\n",
              "      <td>0</td>\n",
              "      <td>0</td>\n",
              "      <td>2</td>\n",
              "      <td>40</td>\n",
              "      <td>24.0</td>\n",
              "      <td>15</td>\n",
              "      <td>2</td>\n",
              "      <td>104166</td>\n",
              "    </tr>\n",
              "    <tr>\n",
              "      <th>33419</th>\n",
              "      <td>F00087922</td>\n",
              "      <td>1132</td>\n",
              "      <td>0</td>\n",
              "      <td>1</td>\n",
              "      <td>2</td>\n",
              "      <td>10</td>\n",
              "      <td>31.0</td>\n",
              "      <td>15</td>\n",
              "      <td>2</td>\n",
              "      <td>87922</td>\n",
              "    </tr>\n",
              "    <tr>\n",
              "      <th>38704</th>\n",
              "      <td>F00101885</td>\n",
              "      <td>3164</td>\n",
              "      <td>0</td>\n",
              "      <td>1</td>\n",
              "      <td>2</td>\n",
              "      <td>15</td>\n",
              "      <td>NaN</td>\n",
              "      <td>30</td>\n",
              "      <td>3</td>\n",
              "      <td>101885</td>\n",
              "    </tr>\n",
              "    <tr>\n",
              "      <th>5538</th>\n",
              "      <td>F00014398</td>\n",
              "      <td>1296</td>\n",
              "      <td>1</td>\n",
              "      <td>0</td>\n",
              "      <td>3</td>\n",
              "      <td>20</td>\n",
              "      <td>36.0</td>\n",
              "      <td>0</td>\n",
              "      <td>2</td>\n",
              "      <td>14398</td>\n",
              "    </tr>\n",
              "    <tr>\n",
              "      <th>816</th>\n",
              "      <td>F00002108</td>\n",
              "      <td>2138</td>\n",
              "      <td>0</td>\n",
              "      <td>0</td>\n",
              "      <td>2</td>\n",
              "      <td>20</td>\n",
              "      <td>38.0</td>\n",
              "      <td>13</td>\n",
              "      <td>1</td>\n",
              "      <td>2108</td>\n",
              "    </tr>\n",
              "  </tbody>\n",
              "</table>\n",
              "</div>"
            ],
            "text/plain": [
              "              ID  Estimated_Insects_Count  ...  Season  ID_value\n",
              "39604  F00104166                      915  ...       2    104166\n",
              "33419  F00087922                     1132  ...       2     87922\n",
              "38704  F00101885                     3164  ...       3    101885\n",
              "5538   F00014398                     1296  ...       2     14398\n",
              "816    F00002108                     2138  ...       1      2108\n",
              "\n",
              "[5 rows x 10 columns]"
            ]
          },
          "metadata": {
            "tags": []
          },
          "execution_count": 119
        }
      ]
    },
    {
      "cell_type": "code",
      "metadata": {
        "id": "A4KUXTG7mJtE",
        "colab_type": "code",
        "colab": {
          "base_uri": "https://localhost:8080/",
          "height": 318
        },
        "outputId": "597e64a4-900d-495f-9bf0-19801c46be12"
      },
      "source": [
        "test_data.info()"
      ],
      "execution_count": 120,
      "outputs": [
        {
          "output_type": "stream",
          "text": [
            "<class 'pandas.core.frame.DataFrame'>\n",
            "RangeIndex: 59310 entries, 0 to 59309\n",
            "Data columns (total 10 columns):\n",
            " #   Column                   Non-Null Count  Dtype  \n",
            "---  ------                   --------------  -----  \n",
            " 0   ID                       59310 non-null  object \n",
            " 1   Estimated_Insects_Count  59310 non-null  int64  \n",
            " 2   Crop_Type                59310 non-null  int64  \n",
            " 3   Soil_Type                59310 non-null  int64  \n",
            " 4   Pesticide_Use_Category   59310 non-null  int64  \n",
            " 5   Number_Doses_Week        59310 non-null  int64  \n",
            " 6   Number_Weeks_Used        53417 non-null  float64\n",
            " 7   Number_Weeks_Quit        59310 non-null  int64  \n",
            " 8   Season                   59310 non-null  int64  \n",
            " 9   ID_value                 59310 non-null  int64  \n",
            "dtypes: float64(1), int64(8), object(1)\n",
            "memory usage: 4.5+ MB\n"
          ],
          "name": "stdout"
        }
      ]
    },
    {
      "cell_type": "code",
      "metadata": {
        "id": "MDHHgkvBmJ06",
        "colab_type": "code",
        "colab": {
          "base_uri": "https://localhost:8080/",
          "height": 411
        },
        "outputId": "e007369d-8fc5-4a25-9db9-da3381290216"
      },
      "source": [
        "nan_test_rows = test_data.loc[test_data['Number_Weeks_Used'].isna()]\n",
        "test_data_ = test_data.dropna(inplace=False)\n",
        "nan_test_rows['nan_pattern'] = 0\n",
        "test_data_['nan_pattern'] = 1\n",
        "test_data = pd.concat((nan_test_rows, test_data_))\n",
        "test_data.head()"
      ],
      "execution_count": 121,
      "outputs": [
        {
          "output_type": "stream",
          "text": [
            "/usr/local/lib/python3.6/dist-packages/ipykernel_launcher.py:3: SettingWithCopyWarning: \n",
            "A value is trying to be set on a copy of a slice from a DataFrame.\n",
            "Try using .loc[row_indexer,col_indexer] = value instead\n",
            "\n",
            "See the caveats in the documentation: https://pandas.pydata.org/pandas-docs/stable/user_guide/indexing.html#returning-a-view-versus-a-copy\n",
            "  This is separate from the ipykernel package so we can avoid doing imports until\n",
            "/usr/local/lib/python3.6/dist-packages/ipykernel_launcher.py:4: SettingWithCopyWarning: \n",
            "A value is trying to be set on a copy of a slice from a DataFrame.\n",
            "Try using .loc[row_indexer,col_indexer] = value instead\n",
            "\n",
            "See the caveats in the documentation: https://pandas.pydata.org/pandas-docs/stable/user_guide/indexing.html#returning-a-view-versus-a-copy\n",
            "  after removing the cwd from sys.path.\n"
          ],
          "name": "stderr"
        },
        {
          "output_type": "execute_result",
          "data": {
            "text/html": [
              "<div>\n",
              "<style scoped>\n",
              "    .dataframe tbody tr th:only-of-type {\n",
              "        vertical-align: middle;\n",
              "    }\n",
              "\n",
              "    .dataframe tbody tr th {\n",
              "        vertical-align: top;\n",
              "    }\n",
              "\n",
              "    .dataframe thead th {\n",
              "        text-align: right;\n",
              "    }\n",
              "</style>\n",
              "<table border=\"1\" class=\"dataframe\">\n",
              "  <thead>\n",
              "    <tr style=\"text-align: right;\">\n",
              "      <th></th>\n",
              "      <th>ID</th>\n",
              "      <th>Estimated_Insects_Count</th>\n",
              "      <th>Crop_Type</th>\n",
              "      <th>Soil_Type</th>\n",
              "      <th>Pesticide_Use_Category</th>\n",
              "      <th>Number_Doses_Week</th>\n",
              "      <th>Number_Weeks_Used</th>\n",
              "      <th>Number_Weeks_Quit</th>\n",
              "      <th>Season</th>\n",
              "      <th>ID_value</th>\n",
              "      <th>nan_pattern</th>\n",
              "    </tr>\n",
              "  </thead>\n",
              "  <tbody>\n",
              "    <tr>\n",
              "      <th>0</th>\n",
              "      <td>F00000002</td>\n",
              "      <td>188</td>\n",
              "      <td>1</td>\n",
              "      <td>1</td>\n",
              "      <td>1</td>\n",
              "      <td>0</td>\n",
              "      <td>NaN</td>\n",
              "      <td>0</td>\n",
              "      <td>2</td>\n",
              "      <td>2</td>\n",
              "      <td>0</td>\n",
              "    </tr>\n",
              "    <tr>\n",
              "      <th>6</th>\n",
              "      <td>F00000016</td>\n",
              "      <td>851</td>\n",
              "      <td>1</td>\n",
              "      <td>0</td>\n",
              "      <td>1</td>\n",
              "      <td>0</td>\n",
              "      <td>NaN</td>\n",
              "      <td>0</td>\n",
              "      <td>3</td>\n",
              "      <td>16</td>\n",
              "      <td>0</td>\n",
              "    </tr>\n",
              "    <tr>\n",
              "      <th>11</th>\n",
              "      <td>F00000031</td>\n",
              "      <td>1898</td>\n",
              "      <td>0</td>\n",
              "      <td>1</td>\n",
              "      <td>1</td>\n",
              "      <td>0</td>\n",
              "      <td>NaN</td>\n",
              "      <td>0</td>\n",
              "      <td>2</td>\n",
              "      <td>31</td>\n",
              "      <td>0</td>\n",
              "    </tr>\n",
              "    <tr>\n",
              "      <th>21</th>\n",
              "      <td>F00000047</td>\n",
              "      <td>3336</td>\n",
              "      <td>0</td>\n",
              "      <td>1</td>\n",
              "      <td>1</td>\n",
              "      <td>0</td>\n",
              "      <td>NaN</td>\n",
              "      <td>0</td>\n",
              "      <td>2</td>\n",
              "      <td>47</td>\n",
              "      <td>0</td>\n",
              "    </tr>\n",
              "    <tr>\n",
              "      <th>39</th>\n",
              "      <td>F00000094</td>\n",
              "      <td>375</td>\n",
              "      <td>0</td>\n",
              "      <td>0</td>\n",
              "      <td>3</td>\n",
              "      <td>30</td>\n",
              "      <td>NaN</td>\n",
              "      <td>0</td>\n",
              "      <td>1</td>\n",
              "      <td>94</td>\n",
              "      <td>0</td>\n",
              "    </tr>\n",
              "  </tbody>\n",
              "</table>\n",
              "</div>"
            ],
            "text/plain": [
              "           ID  Estimated_Insects_Count  ...  ID_value  nan_pattern\n",
              "0   F00000002                      188  ...         2            0\n",
              "6   F00000016                      851  ...        16            0\n",
              "11  F00000031                     1898  ...        31            0\n",
              "21  F00000047                     3336  ...        47            0\n",
              "39  F00000094                      375  ...        94            0\n",
              "\n",
              "[5 rows x 11 columns]"
            ]
          },
          "metadata": {
            "tags": []
          },
          "execution_count": 121
        }
      ]
    },
    {
      "cell_type": "code",
      "metadata": {
        "id": "m4GBpo0XmJ31",
        "colab_type": "code",
        "colab": {
          "base_uri": "https://localhost:8080/",
          "height": 227
        },
        "outputId": "1ace1b0c-a56a-4c22-a235-63476de76bd4"
      },
      "source": [
        "test_data['Number_Weeks_Used'].fillna(-1, inplace = True)\n",
        "test_data.head(6)"
      ],
      "execution_count": 122,
      "outputs": [
        {
          "output_type": "execute_result",
          "data": {
            "text/html": [
              "<div>\n",
              "<style scoped>\n",
              "    .dataframe tbody tr th:only-of-type {\n",
              "        vertical-align: middle;\n",
              "    }\n",
              "\n",
              "    .dataframe tbody tr th {\n",
              "        vertical-align: top;\n",
              "    }\n",
              "\n",
              "    .dataframe thead th {\n",
              "        text-align: right;\n",
              "    }\n",
              "</style>\n",
              "<table border=\"1\" class=\"dataframe\">\n",
              "  <thead>\n",
              "    <tr style=\"text-align: right;\">\n",
              "      <th></th>\n",
              "      <th>ID</th>\n",
              "      <th>Estimated_Insects_Count</th>\n",
              "      <th>Crop_Type</th>\n",
              "      <th>Soil_Type</th>\n",
              "      <th>Pesticide_Use_Category</th>\n",
              "      <th>Number_Doses_Week</th>\n",
              "      <th>Number_Weeks_Used</th>\n",
              "      <th>Number_Weeks_Quit</th>\n",
              "      <th>Season</th>\n",
              "      <th>ID_value</th>\n",
              "      <th>nan_pattern</th>\n",
              "    </tr>\n",
              "  </thead>\n",
              "  <tbody>\n",
              "    <tr>\n",
              "      <th>0</th>\n",
              "      <td>F00000002</td>\n",
              "      <td>188</td>\n",
              "      <td>1</td>\n",
              "      <td>1</td>\n",
              "      <td>1</td>\n",
              "      <td>0</td>\n",
              "      <td>-1.0</td>\n",
              "      <td>0</td>\n",
              "      <td>2</td>\n",
              "      <td>2</td>\n",
              "      <td>0</td>\n",
              "    </tr>\n",
              "    <tr>\n",
              "      <th>6</th>\n",
              "      <td>F00000016</td>\n",
              "      <td>851</td>\n",
              "      <td>1</td>\n",
              "      <td>0</td>\n",
              "      <td>1</td>\n",
              "      <td>0</td>\n",
              "      <td>-1.0</td>\n",
              "      <td>0</td>\n",
              "      <td>3</td>\n",
              "      <td>16</td>\n",
              "      <td>0</td>\n",
              "    </tr>\n",
              "    <tr>\n",
              "      <th>11</th>\n",
              "      <td>F00000031</td>\n",
              "      <td>1898</td>\n",
              "      <td>0</td>\n",
              "      <td>1</td>\n",
              "      <td>1</td>\n",
              "      <td>0</td>\n",
              "      <td>-1.0</td>\n",
              "      <td>0</td>\n",
              "      <td>2</td>\n",
              "      <td>31</td>\n",
              "      <td>0</td>\n",
              "    </tr>\n",
              "    <tr>\n",
              "      <th>21</th>\n",
              "      <td>F00000047</td>\n",
              "      <td>3336</td>\n",
              "      <td>0</td>\n",
              "      <td>1</td>\n",
              "      <td>1</td>\n",
              "      <td>0</td>\n",
              "      <td>-1.0</td>\n",
              "      <td>0</td>\n",
              "      <td>2</td>\n",
              "      <td>47</td>\n",
              "      <td>0</td>\n",
              "    </tr>\n",
              "    <tr>\n",
              "      <th>39</th>\n",
              "      <td>F00000094</td>\n",
              "      <td>375</td>\n",
              "      <td>0</td>\n",
              "      <td>0</td>\n",
              "      <td>3</td>\n",
              "      <td>30</td>\n",
              "      <td>-1.0</td>\n",
              "      <td>0</td>\n",
              "      <td>1</td>\n",
              "      <td>94</td>\n",
              "      <td>0</td>\n",
              "    </tr>\n",
              "    <tr>\n",
              "      <th>57</th>\n",
              "      <td>F00000138</td>\n",
              "      <td>489</td>\n",
              "      <td>0</td>\n",
              "      <td>0</td>\n",
              "      <td>3</td>\n",
              "      <td>60</td>\n",
              "      <td>-1.0</td>\n",
              "      <td>0</td>\n",
              "      <td>3</td>\n",
              "      <td>138</td>\n",
              "      <td>0</td>\n",
              "    </tr>\n",
              "  </tbody>\n",
              "</table>\n",
              "</div>"
            ],
            "text/plain": [
              "           ID  Estimated_Insects_Count  ...  ID_value  nan_pattern\n",
              "0   F00000002                      188  ...         2            0\n",
              "6   F00000016                      851  ...        16            0\n",
              "11  F00000031                     1898  ...        31            0\n",
              "21  F00000047                     3336  ...        47            0\n",
              "39  F00000094                      375  ...        94            0\n",
              "57  F00000138                      489  ...       138            0\n",
              "\n",
              "[6 rows x 11 columns]"
            ]
          },
          "metadata": {
            "tags": []
          },
          "execution_count": 122
        }
      ]
    },
    {
      "cell_type": "code",
      "metadata": {
        "id": "RI1eLyR5mJ_G",
        "colab_type": "code",
        "colab": {
          "base_uri": "https://localhost:8080/",
          "height": 34
        },
        "outputId": "2ca97cca-e7c0-4737-c3bf-a536e342160d"
      },
      "source": [
        "test_features = test_data.drop(['ID'], axis = 1)\n",
        "test_features.shape"
      ],
      "execution_count": 126,
      "outputs": [
        {
          "output_type": "execute_result",
          "data": {
            "text/plain": [
              "(59310, 10)"
            ]
          },
          "metadata": {
            "tags": []
          },
          "execution_count": 126
        }
      ]
    },
    {
      "cell_type": "code",
      "metadata": {
        "id": "m4fBylRLmJ8P",
        "colab_type": "code",
        "colab": {
          "base_uri": "https://localhost:8080/",
          "height": 34
        },
        "outputId": "288ae729-908c-4e17-889e-97d31b92a5c6"
      },
      "source": [
        "test_features = features_scc.transform(test_features)\n",
        "test_features.shape"
      ],
      "execution_count": 127,
      "outputs": [
        {
          "output_type": "execute_result",
          "data": {
            "text/plain": [
              "(59310, 10)"
            ]
          },
          "metadata": {
            "tags": []
          },
          "execution_count": 127
        }
      ]
    },
    {
      "cell_type": "markdown",
      "metadata": {
        "id": "mXHlDSwppSNX",
        "colab_type": "text"
      },
      "source": [
        "Using XGBOOST because it has the highest accuracy among all other models"
      ]
    },
    {
      "cell_type": "code",
      "metadata": {
        "id": "kX7CG6U-pMpa",
        "colab_type": "code",
        "colab": {
          "base_uri": "https://localhost:8080/",
          "height": 34
        },
        "outputId": "2e8311b7-153f-4d0a-a698-d9d811d30bc9"
      },
      "source": [
        "test_preds = xgboost_model.predict(test_features)\n",
        "test_preds"
      ],
      "execution_count": 128,
      "outputs": [
        {
          "output_type": "execute_result",
          "data": {
            "text/plain": [
              "array([1, 1, 1, ..., 0, 0, 0])"
            ]
          },
          "metadata": {
            "tags": []
          },
          "execution_count": 128
        }
      ]
    },
    {
      "cell_type": "code",
      "metadata": {
        "id": "FhJIVuz0phLM",
        "colab_type": "code",
        "colab": {
          "base_uri": "https://localhost:8080/",
          "height": 217
        },
        "outputId": "7810ccfe-1ea0-4ceb-9314-d0ed4056e060"
      },
      "source": [
        "test_data[\"Crop_Damage\"] = test_preds\n",
        "test_data.head()"
      ],
      "execution_count": 129,
      "outputs": [
        {
          "output_type": "execute_result",
          "data": {
            "text/html": [
              "<div>\n",
              "<style scoped>\n",
              "    .dataframe tbody tr th:only-of-type {\n",
              "        vertical-align: middle;\n",
              "    }\n",
              "\n",
              "    .dataframe tbody tr th {\n",
              "        vertical-align: top;\n",
              "    }\n",
              "\n",
              "    .dataframe thead th {\n",
              "        text-align: right;\n",
              "    }\n",
              "</style>\n",
              "<table border=\"1\" class=\"dataframe\">\n",
              "  <thead>\n",
              "    <tr style=\"text-align: right;\">\n",
              "      <th></th>\n",
              "      <th>ID</th>\n",
              "      <th>Estimated_Insects_Count</th>\n",
              "      <th>Crop_Type</th>\n",
              "      <th>Soil_Type</th>\n",
              "      <th>Pesticide_Use_Category</th>\n",
              "      <th>Number_Doses_Week</th>\n",
              "      <th>Number_Weeks_Used</th>\n",
              "      <th>Number_Weeks_Quit</th>\n",
              "      <th>Season</th>\n",
              "      <th>ID_value</th>\n",
              "      <th>nan_pattern</th>\n",
              "      <th>Crop_Damage</th>\n",
              "    </tr>\n",
              "  </thead>\n",
              "  <tbody>\n",
              "    <tr>\n",
              "      <th>0</th>\n",
              "      <td>F00000002</td>\n",
              "      <td>188</td>\n",
              "      <td>1</td>\n",
              "      <td>1</td>\n",
              "      <td>1</td>\n",
              "      <td>0</td>\n",
              "      <td>-1.0</td>\n",
              "      <td>0</td>\n",
              "      <td>2</td>\n",
              "      <td>2</td>\n",
              "      <td>0</td>\n",
              "      <td>1</td>\n",
              "    </tr>\n",
              "    <tr>\n",
              "      <th>6</th>\n",
              "      <td>F00000016</td>\n",
              "      <td>851</td>\n",
              "      <td>1</td>\n",
              "      <td>0</td>\n",
              "      <td>1</td>\n",
              "      <td>0</td>\n",
              "      <td>-1.0</td>\n",
              "      <td>0</td>\n",
              "      <td>3</td>\n",
              "      <td>16</td>\n",
              "      <td>0</td>\n",
              "      <td>1</td>\n",
              "    </tr>\n",
              "    <tr>\n",
              "      <th>11</th>\n",
              "      <td>F00000031</td>\n",
              "      <td>1898</td>\n",
              "      <td>0</td>\n",
              "      <td>1</td>\n",
              "      <td>1</td>\n",
              "      <td>0</td>\n",
              "      <td>-1.0</td>\n",
              "      <td>0</td>\n",
              "      <td>2</td>\n",
              "      <td>31</td>\n",
              "      <td>0</td>\n",
              "      <td>1</td>\n",
              "    </tr>\n",
              "    <tr>\n",
              "      <th>21</th>\n",
              "      <td>F00000047</td>\n",
              "      <td>3336</td>\n",
              "      <td>0</td>\n",
              "      <td>1</td>\n",
              "      <td>1</td>\n",
              "      <td>0</td>\n",
              "      <td>-1.0</td>\n",
              "      <td>0</td>\n",
              "      <td>2</td>\n",
              "      <td>47</td>\n",
              "      <td>0</td>\n",
              "      <td>1</td>\n",
              "    </tr>\n",
              "    <tr>\n",
              "      <th>39</th>\n",
              "      <td>F00000094</td>\n",
              "      <td>375</td>\n",
              "      <td>0</td>\n",
              "      <td>0</td>\n",
              "      <td>3</td>\n",
              "      <td>30</td>\n",
              "      <td>-1.0</td>\n",
              "      <td>0</td>\n",
              "      <td>1</td>\n",
              "      <td>94</td>\n",
              "      <td>0</td>\n",
              "      <td>0</td>\n",
              "    </tr>\n",
              "  </tbody>\n",
              "</table>\n",
              "</div>"
            ],
            "text/plain": [
              "           ID  Estimated_Insects_Count  ...  nan_pattern  Crop_Damage\n",
              "0   F00000002                      188  ...            0            1\n",
              "6   F00000016                      851  ...            0            1\n",
              "11  F00000031                     1898  ...            0            1\n",
              "21  F00000047                     3336  ...            0            1\n",
              "39  F00000094                      375  ...            0            0\n",
              "\n",
              "[5 rows x 12 columns]"
            ]
          },
          "metadata": {
            "tags": []
          },
          "execution_count": 129
        }
      ]
    },
    {
      "cell_type": "code",
      "metadata": {
        "id": "c3lFcuJLqOwN",
        "colab_type": "code",
        "colab": {
          "base_uri": "https://localhost:8080/",
          "height": 197
        },
        "outputId": "38c1dc04-8496-4adc-e276-94dcf34b1fff"
      },
      "source": [
        "result = test_data[[\"ID\", \"Crop_Damage\"]]\n",
        "result.head()"
      ],
      "execution_count": 131,
      "outputs": [
        {
          "output_type": "execute_result",
          "data": {
            "text/html": [
              "<div>\n",
              "<style scoped>\n",
              "    .dataframe tbody tr th:only-of-type {\n",
              "        vertical-align: middle;\n",
              "    }\n",
              "\n",
              "    .dataframe tbody tr th {\n",
              "        vertical-align: top;\n",
              "    }\n",
              "\n",
              "    .dataframe thead th {\n",
              "        text-align: right;\n",
              "    }\n",
              "</style>\n",
              "<table border=\"1\" class=\"dataframe\">\n",
              "  <thead>\n",
              "    <tr style=\"text-align: right;\">\n",
              "      <th></th>\n",
              "      <th>ID</th>\n",
              "      <th>Crop_Damage</th>\n",
              "    </tr>\n",
              "  </thead>\n",
              "  <tbody>\n",
              "    <tr>\n",
              "      <th>0</th>\n",
              "      <td>F00000002</td>\n",
              "      <td>1</td>\n",
              "    </tr>\n",
              "    <tr>\n",
              "      <th>6</th>\n",
              "      <td>F00000016</td>\n",
              "      <td>1</td>\n",
              "    </tr>\n",
              "    <tr>\n",
              "      <th>11</th>\n",
              "      <td>F00000031</td>\n",
              "      <td>1</td>\n",
              "    </tr>\n",
              "    <tr>\n",
              "      <th>21</th>\n",
              "      <td>F00000047</td>\n",
              "      <td>1</td>\n",
              "    </tr>\n",
              "    <tr>\n",
              "      <th>39</th>\n",
              "      <td>F00000094</td>\n",
              "      <td>0</td>\n",
              "    </tr>\n",
              "  </tbody>\n",
              "</table>\n",
              "</div>"
            ],
            "text/plain": [
              "           ID  Crop_Damage\n",
              "0   F00000002            1\n",
              "6   F00000016            1\n",
              "11  F00000031            1\n",
              "21  F00000047            1\n",
              "39  F00000094            0"
            ]
          },
          "metadata": {
            "tags": []
          },
          "execution_count": 131
        }
      ]
    },
    {
      "cell_type": "code",
      "metadata": {
        "id": "9V_ZY1y1qVMh",
        "colab_type": "code",
        "colab": {}
      },
      "source": [
        "result.to_csv(\"ML4e_task_result.csv\")"
      ],
      "execution_count": 132,
      "outputs": []
    },
    {
      "cell_type": "code",
      "metadata": {
        "id": "sgqTGABDqtWO",
        "colab_type": "code",
        "colab": {}
      },
      "source": [
        ""
      ],
      "execution_count": null,
      "outputs": []
    }
  ]
}